{
 "cells": [
  {
   "cell_type": "code",
   "execution_count": 1,
   "id": "c225fd6a",
   "metadata": {},
   "outputs": [],
   "source": [
    "import sqlite3\n",
    "import datetime\n",
    "import pandas as pd\n",
    "import pyodbc\n",
    "import numpy as np\n",
    "import seaborn as sns\n",
    "import matplotlib.pyplot as plt\n",
    "%matplotlib inline"
   ]
  },
  {
   "cell_type": "code",
   "execution_count": 2,
   "id": "36e6a01f",
   "metadata": {},
   "outputs": [],
   "source": [
    "from sklearn.model_selection import train_test_split\n",
    "from sklearn.tree import DecisionTreeClassifier\n",
    "from sklearn.model_selection import train_test_split, GridSearchCV\n",
    "from sklearn.metrics import accuracy_score\n",
    "from sklearn.ensemble import RandomForestClassifier\n",
    "from sklearn.linear_model import LinearRegression"
   ]
  },
  {
   "cell_type": "code",
   "execution_count": 3,
   "id": "196af59c",
   "metadata": {},
   "outputs": [],
   "source": [
    "from sklearn.ensemble import RandomForestClassifier\n",
    "from sklearn.metrics import accuracy_score, confusion_matrix, classification_report"
   ]
  },
  {
   "cell_type": "code",
   "execution_count": 4,
   "id": "671f7073",
   "metadata": {},
   "outputs": [],
   "source": [
    "conn = sqlite3.connect('Tripsdata.db')"
   ]
  },
  {
   "cell_type": "code",
   "execution_count": 5,
   "id": "6730321f",
   "metadata": {},
   "outputs": [],
   "source": [
    "df = pd.read_sql_query('SELECT * FROM \"Trips Data\"', conn)"
   ]
  },
  {
   "cell_type": "code",
   "execution_count": 6,
   "id": "74160c7a",
   "metadata": {},
   "outputs": [],
   "source": [
    "conn.close()"
   ]
  },
  {
   "cell_type": "code",
   "execution_count": 40,
   "id": "d43a83b6",
   "metadata": {},
   "outputs": [],
   "source": [
    "#df['Date_Float'] = df['Date'].apply(lambda x: float(datetime.datetime.strptime(x[:10], '%Y-%m-%d').timestamp()))\n",
    "#did not end up using for all"
   ]
  },
  {
   "cell_type": "code",
   "execution_count": 7,
   "id": "a19c78c7",
   "metadata": {},
   "outputs": [],
   "source": [
    "df.drop(columns=[\"Date\", \"Level\", \"State Postal Code\", \"Row ID\"], axis=1, inplace=True)"
   ]
  },
  {
   "cell_type": "code",
   "execution_count": 9,
   "id": "e0ad7fc3",
   "metadata": {},
   "outputs": [],
   "source": [
    "#df.drop(columns=[\"Date_Float\"], axis=1, inplace=True)\n",
    "#did not end up using for all"
   ]
  },
  {
   "cell_type": "code",
   "execution_count": 8,
   "id": "fe395740",
   "metadata": {},
   "outputs": [
    {
     "name": "stdout",
     "output_type": "stream",
     "text": [
      "<class 'pandas.core.frame.DataFrame'>\n",
      "RangeIndex: 45267 entries, 0 to 45266\n",
      "Data columns (total 16 columns):\n",
      " #   Column                          Non-Null Count  Dtype  \n",
      "---  ------                          --------------  -----  \n",
      " 0   State FIPS                      45267 non-null  float64\n",
      " 1   Population Staying at Home      45267 non-null  float64\n",
      " 2   Population Not Staying at Home  45267 non-null  float64\n",
      " 3   Number of Trips                 45267 non-null  float64\n",
      " 4   Number of Trips <1              45267 non-null  float64\n",
      " 5   Number of Trips 1-3             45267 non-null  float64\n",
      " 6   Number of Trips 3-5             45267 non-null  float64\n",
      " 7   Number of Trips 5-10            45267 non-null  float64\n",
      " 8   Number of Trips 10-25           45267 non-null  float64\n",
      " 9   Number of Trips 25-50           45267 non-null  float64\n",
      " 10  Number of Trips 50-100          45267 non-null  float64\n",
      " 11  Number of Trips 100-250         45267 non-null  float64\n",
      " 12  Number of Trips 250-500         45267 non-null  float64\n",
      " 13  Number of Trips >=500           45267 non-null  float64\n",
      " 14  Week                            45267 non-null  float64\n",
      " 15  Month                           45267 non-null  float64\n",
      "dtypes: float64(16)\n",
      "memory usage: 5.5 MB\n"
     ]
    }
   ],
   "source": [
    "df.info()"
   ]
  },
  {
   "cell_type": "code",
   "execution_count": 9,
   "id": "2674629a",
   "metadata": {},
   "outputs": [
    {
     "data": {
      "text/html": [
       "<div>\n",
       "<style scoped>\n",
       "    .dataframe tbody tr th:only-of-type {\n",
       "        vertical-align: middle;\n",
       "    }\n",
       "\n",
       "    .dataframe tbody tr th {\n",
       "        vertical-align: top;\n",
       "    }\n",
       "\n",
       "    .dataframe thead th {\n",
       "        text-align: right;\n",
       "    }\n",
       "</style>\n",
       "<table border=\"1\" class=\"dataframe\">\n",
       "  <thead>\n",
       "    <tr style=\"text-align: right;\">\n",
       "      <th></th>\n",
       "      <th>State FIPS</th>\n",
       "      <th>Population Staying at Home</th>\n",
       "      <th>Population Not Staying at Home</th>\n",
       "      <th>Number of Trips</th>\n",
       "      <th>Number of Trips &lt;1</th>\n",
       "      <th>Number of Trips 1-3</th>\n",
       "      <th>Number of Trips 3-5</th>\n",
       "      <th>Number of Trips 5-10</th>\n",
       "      <th>Number of Trips 10-25</th>\n",
       "      <th>Number of Trips 25-50</th>\n",
       "      <th>Number of Trips 50-100</th>\n",
       "      <th>Number of Trips 100-250</th>\n",
       "      <th>Number of Trips 250-500</th>\n",
       "      <th>Number of Trips &gt;=500</th>\n",
       "      <th>Week</th>\n",
       "      <th>Month</th>\n",
       "    </tr>\n",
       "  </thead>\n",
       "  <tbody>\n",
       "    <tr>\n",
       "      <th>0</th>\n",
       "      <td>32.0</td>\n",
       "      <td>753054.0</td>\n",
       "      <td>2272063.0</td>\n",
       "      <td>9139676.0</td>\n",
       "      <td>2999886.0</td>\n",
       "      <td>2181216.0</td>\n",
       "      <td>1039500.0</td>\n",
       "      <td>1378024.0</td>\n",
       "      <td>1108436.0</td>\n",
       "      <td>222837.0</td>\n",
       "      <td>93301.0</td>\n",
       "      <td>73578.0</td>\n",
       "      <td>24471.0</td>\n",
       "      <td>18427.0</td>\n",
       "      <td>0.0</td>\n",
       "      <td>1.0</td>\n",
       "    </tr>\n",
       "    <tr>\n",
       "      <th>1</th>\n",
       "      <td>12.0</td>\n",
       "      <td>4524666.0</td>\n",
       "      <td>16709556.0</td>\n",
       "      <td>55258300.0</td>\n",
       "      <td>16036792.0</td>\n",
       "      <td>14469767.0</td>\n",
       "      <td>6658624.0</td>\n",
       "      <td>7977612.0</td>\n",
       "      <td>6604304.0</td>\n",
       "      <td>2113009.0</td>\n",
       "      <td>796740.0</td>\n",
       "      <td>412224.0</td>\n",
       "      <td>95341.0</td>\n",
       "      <td>93887.0</td>\n",
       "      <td>0.0</td>\n",
       "      <td>1.0</td>\n",
       "    </tr>\n",
       "    <tr>\n",
       "      <th>2</th>\n",
       "      <td>11.0</td>\n",
       "      <td>241030.0</td>\n",
       "      <td>459278.0</td>\n",
       "      <td>3114055.0</td>\n",
       "      <td>1314825.0</td>\n",
       "      <td>833796.0</td>\n",
       "      <td>367547.0</td>\n",
       "      <td>344116.0</td>\n",
       "      <td>183744.0</td>\n",
       "      <td>42096.0</td>\n",
       "      <td>10730.0</td>\n",
       "      <td>8109.0</td>\n",
       "      <td>3476.0</td>\n",
       "      <td>5616.0</td>\n",
       "      <td>0.0</td>\n",
       "      <td>1.0</td>\n",
       "    </tr>\n",
       "    <tr>\n",
       "      <th>3</th>\n",
       "      <td>10.0</td>\n",
       "      <td>224457.0</td>\n",
       "      <td>739757.0</td>\n",
       "      <td>2420942.0</td>\n",
       "      <td>584323.0</td>\n",
       "      <td>640348.0</td>\n",
       "      <td>305441.0</td>\n",
       "      <td>370359.0</td>\n",
       "      <td>314102.0</td>\n",
       "      <td>128454.0</td>\n",
       "      <td>50542.0</td>\n",
       "      <td>22701.0</td>\n",
       "      <td>2474.0</td>\n",
       "      <td>2198.0</td>\n",
       "      <td>0.0</td>\n",
       "      <td>1.0</td>\n",
       "    </tr>\n",
       "    <tr>\n",
       "      <th>4</th>\n",
       "      <td>9.0</td>\n",
       "      <td>853894.0</td>\n",
       "      <td>2707851.0</td>\n",
       "      <td>9468961.0</td>\n",
       "      <td>2375021.0</td>\n",
       "      <td>2618933.0</td>\n",
       "      <td>1189575.0</td>\n",
       "      <td>1331356.0</td>\n",
       "      <td>1211252.0</td>\n",
       "      <td>449947.0</td>\n",
       "      <td>192960.0</td>\n",
       "      <td>56618.0</td>\n",
       "      <td>12031.0</td>\n",
       "      <td>31268.0</td>\n",
       "      <td>0.0</td>\n",
       "      <td>1.0</td>\n",
       "    </tr>\n",
       "  </tbody>\n",
       "</table>\n",
       "</div>"
      ],
      "text/plain": [
       "   State FIPS  Population Staying at Home  Population Not Staying at Home  \\\n",
       "0        32.0                    753054.0                       2272063.0   \n",
       "1        12.0                   4524666.0                      16709556.0   \n",
       "2        11.0                    241030.0                        459278.0   \n",
       "3        10.0                    224457.0                        739757.0   \n",
       "4         9.0                    853894.0                       2707851.0   \n",
       "\n",
       "   Number of Trips  Number of Trips <1  Number of Trips 1-3  \\\n",
       "0        9139676.0           2999886.0            2181216.0   \n",
       "1       55258300.0          16036792.0           14469767.0   \n",
       "2        3114055.0           1314825.0             833796.0   \n",
       "3        2420942.0            584323.0             640348.0   \n",
       "4        9468961.0           2375021.0            2618933.0   \n",
       "\n",
       "   Number of Trips 3-5  Number of Trips 5-10  Number of Trips 10-25  \\\n",
       "0            1039500.0             1378024.0              1108436.0   \n",
       "1            6658624.0             7977612.0              6604304.0   \n",
       "2             367547.0              344116.0               183744.0   \n",
       "3             305441.0              370359.0               314102.0   \n",
       "4            1189575.0             1331356.0              1211252.0   \n",
       "\n",
       "   Number of Trips 25-50  Number of Trips 50-100  Number of Trips 100-250  \\\n",
       "0               222837.0                 93301.0                  73578.0   \n",
       "1              2113009.0                796740.0                 412224.0   \n",
       "2                42096.0                 10730.0                   8109.0   \n",
       "3               128454.0                 50542.0                  22701.0   \n",
       "4               449947.0                192960.0                  56618.0   \n",
       "\n",
       "   Number of Trips 250-500  Number of Trips >=500  Week  Month  \n",
       "0                  24471.0                18427.0   0.0    1.0  \n",
       "1                  95341.0                93887.0   0.0    1.0  \n",
       "2                   3476.0                 5616.0   0.0    1.0  \n",
       "3                   2474.0                 2198.0   0.0    1.0  \n",
       "4                  12031.0                31268.0   0.0    1.0  "
      ]
     },
     "execution_count": 9,
     "metadata": {},
     "output_type": "execute_result"
    }
   ],
   "source": [
    "df.head()"
   ]
  },
  {
   "cell_type": "code",
   "execution_count": 10,
   "id": "368a4d06",
   "metadata": {},
   "outputs": [],
   "source": [
    "df3 = df.sample(frac=0.50, random_state=42)"
   ]
  },
  {
   "cell_type": "code",
   "execution_count": 11,
   "id": "17fb140f",
   "metadata": {},
   "outputs": [
    {
     "data": {
      "text/html": [
       "<div>\n",
       "<style scoped>\n",
       "    .dataframe tbody tr th:only-of-type {\n",
       "        vertical-align: middle;\n",
       "    }\n",
       "\n",
       "    .dataframe tbody tr th {\n",
       "        vertical-align: top;\n",
       "    }\n",
       "\n",
       "    .dataframe thead th {\n",
       "        text-align: right;\n",
       "    }\n",
       "</style>\n",
       "<table border=\"1\" class=\"dataframe\">\n",
       "  <thead>\n",
       "    <tr style=\"text-align: right;\">\n",
       "      <th></th>\n",
       "      <th>State FIPS</th>\n",
       "      <th>Population Staying at Home</th>\n",
       "      <th>Population Not Staying at Home</th>\n",
       "      <th>Number of Trips</th>\n",
       "      <th>Number of Trips &lt;1</th>\n",
       "      <th>Number of Trips 1-3</th>\n",
       "      <th>Number of Trips 3-5</th>\n",
       "      <th>Number of Trips 5-10</th>\n",
       "      <th>Number of Trips 10-25</th>\n",
       "      <th>Number of Trips 25-50</th>\n",
       "      <th>Number of Trips 50-100</th>\n",
       "      <th>Number of Trips 100-250</th>\n",
       "      <th>Number of Trips 250-500</th>\n",
       "      <th>Number of Trips &gt;=500</th>\n",
       "      <th>Week</th>\n",
       "      <th>Month</th>\n",
       "    </tr>\n",
       "  </thead>\n",
       "  <tbody>\n",
       "    <tr>\n",
       "      <th>29784</th>\n",
       "      <td>37.0</td>\n",
       "      <td>2185271.0</td>\n",
       "      <td>8198349.0</td>\n",
       "      <td>33238726.0</td>\n",
       "      <td>7499378.0</td>\n",
       "      <td>7867283.0</td>\n",
       "      <td>4076161.0</td>\n",
       "      <td>5325751.0</td>\n",
       "      <td>5423975.0</td>\n",
       "      <td>1941941.0</td>\n",
       "      <td>676540.0</td>\n",
       "      <td>336331.0</td>\n",
       "      <td>75765.0</td>\n",
       "      <td>15601.0</td>\n",
       "      <td>31.0</td>\n",
       "      <td>8.0</td>\n",
       "    </tr>\n",
       "    <tr>\n",
       "      <th>30902</th>\n",
       "      <td>32.0</td>\n",
       "      <td>854560.0</td>\n",
       "      <td>2179832.0</td>\n",
       "      <td>7346664.0</td>\n",
       "      <td>1792047.0</td>\n",
       "      <td>1774855.0</td>\n",
       "      <td>888777.0</td>\n",
       "      <td>1263525.0</td>\n",
       "      <td>1198919.0</td>\n",
       "      <td>198125.0</td>\n",
       "      <td>100071.0</td>\n",
       "      <td>91498.0</td>\n",
       "      <td>25254.0</td>\n",
       "      <td>13593.0</td>\n",
       "      <td>34.0</td>\n",
       "      <td>8.0</td>\n",
       "    </tr>\n",
       "    <tr>\n",
       "      <th>16315</th>\n",
       "      <td>18.0</td>\n",
       "      <td>1550587.0</td>\n",
       "      <td>5120839.0</td>\n",
       "      <td>28031771.0</td>\n",
       "      <td>6848939.0</td>\n",
       "      <td>6564219.0</td>\n",
       "      <td>3491268.0</td>\n",
       "      <td>4534797.0</td>\n",
       "      <td>4684751.0</td>\n",
       "      <td>1410864.0</td>\n",
       "      <td>353449.0</td>\n",
       "      <td>101211.0</td>\n",
       "      <td>23683.0</td>\n",
       "      <td>18590.0</td>\n",
       "      <td>45.0</td>\n",
       "      <td>11.0</td>\n",
       "    </tr>\n",
       "    <tr>\n",
       "      <th>37225</th>\n",
       "      <td>33.0</td>\n",
       "      <td>366188.0</td>\n",
       "      <td>990270.0</td>\n",
       "      <td>4069649.0</td>\n",
       "      <td>822782.0</td>\n",
       "      <td>969234.0</td>\n",
       "      <td>509470.0</td>\n",
       "      <td>633106.0</td>\n",
       "      <td>734546.0</td>\n",
       "      <td>285422.0</td>\n",
       "      <td>93229.0</td>\n",
       "      <td>17751.0</td>\n",
       "      <td>1920.0</td>\n",
       "      <td>2189.0</td>\n",
       "      <td>52.0</td>\n",
       "      <td>12.0</td>\n",
       "    </tr>\n",
       "    <tr>\n",
       "      <th>27085</th>\n",
       "      <td>18.0</td>\n",
       "      <td>1528861.0</td>\n",
       "      <td>5163017.0</td>\n",
       "      <td>21190507.0</td>\n",
       "      <td>5587825.0</td>\n",
       "      <td>5353241.0</td>\n",
       "      <td>2655207.0</td>\n",
       "      <td>3167160.0</td>\n",
       "      <td>2809851.0</td>\n",
       "      <td>938568.0</td>\n",
       "      <td>419259.0</td>\n",
       "      <td>196363.0</td>\n",
       "      <td>45801.0</td>\n",
       "      <td>17232.0</td>\n",
       "      <td>24.0</td>\n",
       "      <td>6.0</td>\n",
       "    </tr>\n",
       "    <tr>\n",
       "      <th>...</th>\n",
       "      <td>...</td>\n",
       "      <td>...</td>\n",
       "      <td>...</td>\n",
       "      <td>...</td>\n",
       "      <td>...</td>\n",
       "      <td>...</td>\n",
       "      <td>...</td>\n",
       "      <td>...</td>\n",
       "      <td>...</td>\n",
       "      <td>...</td>\n",
       "      <td>...</td>\n",
       "      <td>...</td>\n",
       "      <td>...</td>\n",
       "      <td>...</td>\n",
       "      <td>...</td>\n",
       "      <td>...</td>\n",
       "    </tr>\n",
       "    <tr>\n",
       "      <th>15488</th>\n",
       "      <td>37.0</td>\n",
       "      <td>1709519.0</td>\n",
       "      <td>8642362.0</td>\n",
       "      <td>42315728.0</td>\n",
       "      <td>9056128.0</td>\n",
       "      <td>10409591.0</td>\n",
       "      <td>5448154.0</td>\n",
       "      <td>7191495.0</td>\n",
       "      <td>7414671.0</td>\n",
       "      <td>2255604.0</td>\n",
       "      <td>399185.0</td>\n",
       "      <td>95452.0</td>\n",
       "      <td>22776.0</td>\n",
       "      <td>22672.0</td>\n",
       "      <td>43.0</td>\n",
       "      <td>10.0</td>\n",
       "    </tr>\n",
       "    <tr>\n",
       "      <th>22526</th>\n",
       "      <td>19.0</td>\n",
       "      <td>765404.0</td>\n",
       "      <td>2390741.0</td>\n",
       "      <td>10911986.0</td>\n",
       "      <td>2832558.0</td>\n",
       "      <td>2747392.0</td>\n",
       "      <td>1229571.0</td>\n",
       "      <td>1471735.0</td>\n",
       "      <td>1529566.0</td>\n",
       "      <td>636914.0</td>\n",
       "      <td>266845.0</td>\n",
       "      <td>161210.0</td>\n",
       "      <td>28383.0</td>\n",
       "      <td>7812.0</td>\n",
       "      <td>11.0</td>\n",
       "      <td>3.0</td>\n",
       "    </tr>\n",
       "    <tr>\n",
       "      <th>19892</th>\n",
       "      <td>8.0</td>\n",
       "      <td>1370109.0</td>\n",
       "      <td>4325455.0</td>\n",
       "      <td>22004026.0</td>\n",
       "      <td>5771566.0</td>\n",
       "      <td>5904896.0</td>\n",
       "      <td>2728190.0</td>\n",
       "      <td>3242457.0</td>\n",
       "      <td>2892472.0</td>\n",
       "      <td>871014.0</td>\n",
       "      <td>391019.0</td>\n",
       "      <td>138395.0</td>\n",
       "      <td>32806.0</td>\n",
       "      <td>31211.0</td>\n",
       "      <td>4.0</td>\n",
       "      <td>1.0</td>\n",
       "    </tr>\n",
       "    <tr>\n",
       "      <th>13639</th>\n",
       "      <td>51.0</td>\n",
       "      <td>1488398.0</td>\n",
       "      <td>7003257.0</td>\n",
       "      <td>40858208.0</td>\n",
       "      <td>9663802.0</td>\n",
       "      <td>9867699.0</td>\n",
       "      <td>5173811.0</td>\n",
       "      <td>7098349.0</td>\n",
       "      <td>6654944.0</td>\n",
       "      <td>1782115.0</td>\n",
       "      <td>395157.0</td>\n",
       "      <td>120724.0</td>\n",
       "      <td>40744.0</td>\n",
       "      <td>60863.0</td>\n",
       "      <td>38.0</td>\n",
       "      <td>9.0</td>\n",
       "    </tr>\n",
       "    <tr>\n",
       "      <th>9089</th>\n",
       "      <td>13.0</td>\n",
       "      <td>1831305.0</td>\n",
       "      <td>8656018.0</td>\n",
       "      <td>42611337.0</td>\n",
       "      <td>8939350.0</td>\n",
       "      <td>10412817.0</td>\n",
       "      <td>5231789.0</td>\n",
       "      <td>6995889.0</td>\n",
       "      <td>7391535.0</td>\n",
       "      <td>2544782.0</td>\n",
       "      <td>626968.0</td>\n",
       "      <td>284113.0</td>\n",
       "      <td>93414.0</td>\n",
       "      <td>90680.0</td>\n",
       "      <td>25.0</td>\n",
       "      <td>6.0</td>\n",
       "    </tr>\n",
       "  </tbody>\n",
       "</table>\n",
       "<p>15843 rows × 16 columns</p>\n",
       "</div>"
      ],
      "text/plain": [
       "       State FIPS  Population Staying at Home  Population Not Staying at Home  \\\n",
       "29784        37.0                   2185271.0                       8198349.0   \n",
       "30902        32.0                    854560.0                       2179832.0   \n",
       "16315        18.0                   1550587.0                       5120839.0   \n",
       "37225        33.0                    366188.0                        990270.0   \n",
       "27085        18.0                   1528861.0                       5163017.0   \n",
       "...           ...                         ...                             ...   \n",
       "15488        37.0                   1709519.0                       8642362.0   \n",
       "22526        19.0                    765404.0                       2390741.0   \n",
       "19892         8.0                   1370109.0                       4325455.0   \n",
       "13639        51.0                   1488398.0                       7003257.0   \n",
       "9089         13.0                   1831305.0                       8656018.0   \n",
       "\n",
       "       Number of Trips  Number of Trips <1  Number of Trips 1-3  \\\n",
       "29784       33238726.0           7499378.0            7867283.0   \n",
       "30902        7346664.0           1792047.0            1774855.0   \n",
       "16315       28031771.0           6848939.0            6564219.0   \n",
       "37225        4069649.0            822782.0             969234.0   \n",
       "27085       21190507.0           5587825.0            5353241.0   \n",
       "...                ...                 ...                  ...   \n",
       "15488       42315728.0           9056128.0           10409591.0   \n",
       "22526       10911986.0           2832558.0            2747392.0   \n",
       "19892       22004026.0           5771566.0            5904896.0   \n",
       "13639       40858208.0           9663802.0            9867699.0   \n",
       "9089        42611337.0           8939350.0           10412817.0   \n",
       "\n",
       "       Number of Trips 3-5  Number of Trips 5-10  Number of Trips 10-25  \\\n",
       "29784            4076161.0             5325751.0              5423975.0   \n",
       "30902             888777.0             1263525.0              1198919.0   \n",
       "16315            3491268.0             4534797.0              4684751.0   \n",
       "37225             509470.0              633106.0               734546.0   \n",
       "27085            2655207.0             3167160.0              2809851.0   \n",
       "...                    ...                   ...                    ...   \n",
       "15488            5448154.0             7191495.0              7414671.0   \n",
       "22526            1229571.0             1471735.0              1529566.0   \n",
       "19892            2728190.0             3242457.0              2892472.0   \n",
       "13639            5173811.0             7098349.0              6654944.0   \n",
       "9089             5231789.0             6995889.0              7391535.0   \n",
       "\n",
       "       Number of Trips 25-50  Number of Trips 50-100  Number of Trips 100-250  \\\n",
       "29784              1941941.0                676540.0                 336331.0   \n",
       "30902               198125.0                100071.0                  91498.0   \n",
       "16315              1410864.0                353449.0                 101211.0   \n",
       "37225               285422.0                 93229.0                  17751.0   \n",
       "27085               938568.0                419259.0                 196363.0   \n",
       "...                      ...                     ...                      ...   \n",
       "15488              2255604.0                399185.0                  95452.0   \n",
       "22526               636914.0                266845.0                 161210.0   \n",
       "19892               871014.0                391019.0                 138395.0   \n",
       "13639              1782115.0                395157.0                 120724.0   \n",
       "9089               2544782.0                626968.0                 284113.0   \n",
       "\n",
       "       Number of Trips 250-500  Number of Trips >=500  Week  Month  \n",
       "29784                  75765.0                15601.0  31.0    8.0  \n",
       "30902                  25254.0                13593.0  34.0    8.0  \n",
       "16315                  23683.0                18590.0  45.0   11.0  \n",
       "37225                   1920.0                 2189.0  52.0   12.0  \n",
       "27085                  45801.0                17232.0  24.0    6.0  \n",
       "...                        ...                    ...   ...    ...  \n",
       "15488                  22776.0                22672.0  43.0   10.0  \n",
       "22526                  28383.0                 7812.0  11.0    3.0  \n",
       "19892                  32806.0                31211.0   4.0    1.0  \n",
       "13639                  40744.0                60863.0  38.0    9.0  \n",
       "9089                   93414.0                90680.0  25.0    6.0  \n",
       "\n",
       "[15843 rows x 16 columns]"
      ]
     },
     "execution_count": 11,
     "metadata": {},
     "output_type": "execute_result"
    }
   ],
   "source": [
    "df3"
   ]
  },
  {
   "cell_type": "code",
   "execution_count": 12,
   "id": "c4247b5a",
   "metadata": {},
   "outputs": [
    {
     "name": "stdout",
     "output_type": "stream",
     "text": [
      "<class 'pandas.core.frame.DataFrame'>\n",
      "Int64Index: 15843 entries, 29784 to 9089\n",
      "Data columns (total 16 columns):\n",
      " #   Column                          Non-Null Count  Dtype  \n",
      "---  ------                          --------------  -----  \n",
      " 0   State FIPS                      15843 non-null  float64\n",
      " 1   Population Staying at Home      15843 non-null  float64\n",
      " 2   Population Not Staying at Home  15843 non-null  float64\n",
      " 3   Number of Trips                 15843 non-null  float64\n",
      " 4   Number of Trips <1              15843 non-null  float64\n",
      " 5   Number of Trips 1-3             15843 non-null  float64\n",
      " 6   Number of Trips 3-5             15843 non-null  float64\n",
      " 7   Number of Trips 5-10            15843 non-null  float64\n",
      " 8   Number of Trips 10-25           15843 non-null  float64\n",
      " 9   Number of Trips 25-50           15843 non-null  float64\n",
      " 10  Number of Trips 50-100          15843 non-null  float64\n",
      " 11  Number of Trips 100-250         15843 non-null  float64\n",
      " 12  Number of Trips 250-500         15843 non-null  float64\n",
      " 13  Number of Trips >=500           15843 non-null  float64\n",
      " 14  Week                            15843 non-null  float64\n",
      " 15  Month                           15843 non-null  float64\n",
      "dtypes: float64(16)\n",
      "memory usage: 2.1 MB\n"
     ]
    }
   ],
   "source": [
    "df3.info()"
   ]
  },
  {
   "cell_type": "code",
   "execution_count": null,
   "id": "693b47a3",
   "metadata": {},
   "outputs": [],
   "source": []
  },
  {
   "cell_type": "markdown",
   "id": "05ad4994",
   "metadata": {},
   "source": [
    "## Random Forest Model 1"
   ]
  },
  {
   "cell_type": "code",
   "execution_count": 49,
   "id": "a07f433e",
   "metadata": {},
   "outputs": [],
   "source": [
    "dataset2=df3\n",
    "X=dataset2[['State FIPS','Population Staying at Home','Population Not Staying at Home','Week','Month']]\n",
    "y=dataset2[['Number of Trips']]"
   ]
  },
  {
   "cell_type": "code",
   "execution_count": 50,
   "id": "e3645b3b",
   "metadata": {},
   "outputs": [
    {
     "name": "stderr",
     "output_type": "stream",
     "text": [
      "<ipython-input-50-c0179386adc8>:3: DataConversionWarning: A column-vector y was passed when a 1d array was expected. Please change the shape of y to (n_samples,), for example using ravel().\n",
      "  regressor.fit(X,y)\n"
     ]
    },
    {
     "data": {
      "text/plain": [
       "RandomForestRegressor(n_estimators=20, random_state=0)"
      ]
     },
     "execution_count": 50,
     "metadata": {},
     "output_type": "execute_result"
    }
   ],
   "source": [
    "from sklearn.ensemble import RandomForestRegressor\n",
    "regressor=RandomForestRegressor(n_estimators=20, random_state=0)\n",
    "regressor.fit(X,y)"
   ]
  },
  {
   "cell_type": "code",
   "execution_count": 51,
   "id": "b3589cb6",
   "metadata": {},
   "outputs": [
    {
     "name": "stderr",
     "output_type": "stream",
     "text": [
      "<ipython-input-51-c4a3fd6acd40>:3: DataConversionWarning: A column-vector y was passed when a 1d array was expected. Please change the shape of y to (n_samples,), for example using ravel().\n",
      "  regressor.fit(X_train, y_train)\n"
     ]
    },
    {
     "data": {
      "text/plain": [
       "0.9899830032447869"
      ]
     },
     "execution_count": 51,
     "metadata": {},
     "output_type": "execute_result"
    }
   ],
   "source": [
    "from sklearn.model_selection import train_test_split\n",
    "X_train, X_test, y_train, y_test = train_test_split(X, y, test_size = 0.2, random_state = 0)\n",
    "regressor.fit(X_train, y_train)\n",
    "y_pred = regressor.predict(X_test)\n",
    "from sklearn.metrics import r2_score\n",
    "r2_score(y_test, y_pred)"
   ]
  },
  {
   "cell_type": "code",
   "execution_count": 52,
   "id": "176c4590",
   "metadata": {},
   "outputs": [],
   "source": [
    "y_pred=regressor.predict(X)"
   ]
  },
  {
   "cell_type": "code",
   "execution_count": 53,
   "id": "be6690f1",
   "metadata": {},
   "outputs": [
    {
     "name": "stdout",
     "output_type": "stream",
     "text": [
      "RMSE=  1448915.983114444\n"
     ]
    }
   ],
   "source": [
    "from sklearn.metrics import mean_squared_error as msc\n",
    "from math import sqrt\n",
    "rms=sqrt(msc(y,y_pred))\n",
    "print('RMSE= ',rms) "
   ]
  },
  {
   "cell_type": "code",
   "execution_count": null,
   "id": "61e4c97c",
   "metadata": {},
   "outputs": [],
   "source": []
  },
  {
   "cell_type": "markdown",
   "id": "578eb7ab",
   "metadata": {},
   "source": [
    "## Random Forest Model 2"
   ]
  },
  {
   "cell_type": "code",
   "execution_count": 31,
   "id": "ec6a861e",
   "metadata": {},
   "outputs": [],
   "source": [
    "dataset3=df3\n",
    "X=dataset3[['State FIPS','Population Staying at Home','Population Not Staying at Home','Week','Month','Date_Float']]\n",
    "y=dataset3[['Number of Trips']]"
   ]
  },
  {
   "cell_type": "code",
   "execution_count": null,
   "id": "f9e8ed23",
   "metadata": {},
   "outputs": [],
   "source": [
    "#'Number of Trips <1','Number of Trips 1-3','Number of Trips 3-5','Number of Trips 5-10','Number of Trips 10-25','Number of Trips 25-50','Number of Trips 50-100','Number of Trips 100-250','Number of Trips 250-500','Number of Trips >=500'"
   ]
  },
  {
   "cell_type": "code",
   "execution_count": 32,
   "id": "ce2d1a70",
   "metadata": {},
   "outputs": [
    {
     "name": "stderr",
     "output_type": "stream",
     "text": [
      "<ipython-input-32-478445dab820>:2: DataConversionWarning: A column-vector y was passed when a 1d array was expected. Please change the shape of y to (n_samples,), for example using ravel().\n",
      "  regressor.fit(X,y)\n"
     ]
    },
    {
     "data": {
      "text/plain": [
       "RandomForestRegressor(n_estimators=20, random_state=0)"
      ]
     },
     "execution_count": 32,
     "metadata": {},
     "output_type": "execute_result"
    }
   ],
   "source": [
    "regressor=RandomForestRegressor(n_estimators=20, random_state=0)\n",
    "regressor.fit(X,y)"
   ]
  },
  {
   "cell_type": "code",
   "execution_count": 33,
   "id": "9b7fc87e",
   "metadata": {},
   "outputs": [
    {
     "name": "stderr",
     "output_type": "stream",
     "text": [
      "<ipython-input-33-081c411ff6ec>:2: DataConversionWarning: A column-vector y was passed when a 1d array was expected. Please change the shape of y to (n_samples,), for example using ravel().\n",
      "  regressor.fit(X_train, y_train)\n"
     ]
    },
    {
     "data": {
      "text/plain": [
       "0.9936784174800054"
      ]
     },
     "execution_count": 33,
     "metadata": {},
     "output_type": "execute_result"
    }
   ],
   "source": [
    "X_train, X_test, y_train, y_test = train_test_split(X, y, test_size = 0.2, random_state = 0)\n",
    "regressor.fit(X_train, y_train)\n",
    "y_pred = regressor.predict(X_test)\n",
    "r2_score(y_test, y_pred)"
   ]
  },
  {
   "cell_type": "code",
   "execution_count": null,
   "id": "dde581a5",
   "metadata": {},
   "outputs": [],
   "source": []
  },
  {
   "cell_type": "markdown",
   "id": "debc0d05",
   "metadata": {},
   "source": [
    "## Multiple Linear Regression Model 1"
   ]
  },
  {
   "cell_type": "code",
   "execution_count": 32,
   "id": "92fb70c2",
   "metadata": {},
   "outputs": [],
   "source": [
    "X = df3[['State FIPS','Population Staying at Home','Population Not Staying at Home','Week','Month']]\n",
    "y = df3['Number of Trips']"
   ]
  },
  {
   "cell_type": "code",
   "execution_count": 33,
   "id": "4e2727c5",
   "metadata": {},
   "outputs": [],
   "source": [
    "import statsmodels.api as sm"
   ]
  },
  {
   "cell_type": "code",
   "execution_count": 34,
   "id": "8951218a",
   "metadata": {},
   "outputs": [],
   "source": [
    "X = sm.add_constant(X)"
   ]
  },
  {
   "cell_type": "code",
   "execution_count": 35,
   "id": "95867ff2",
   "metadata": {},
   "outputs": [],
   "source": [
    "model = sm.OLS(y, X).fit()"
   ]
  },
  {
   "cell_type": "code",
   "execution_count": 36,
   "id": "1e2e27e3",
   "metadata": {},
   "outputs": [
    {
     "name": "stdout",
     "output_type": "stream",
     "text": [
      "                            OLS Regression Results                            \n",
      "==============================================================================\n",
      "Dep. Variable:        Number of Trips   R-squared:                       0.944\n",
      "Model:                            OLS   Adj. R-squared:                  0.944\n",
      "Method:                 Least Squares   F-statistic:                 5.351e+04\n",
      "Date:                Mon, 17 Apr 2023   Prob (F-statistic):               0.00\n",
      "Time:                        22:41:19   Log-Likelihood:            -2.7038e+05\n",
      "No. Observations:               15843   AIC:                         5.408e+05\n",
      "Df Residuals:                   15837   BIC:                         5.408e+05\n",
      "Df Model:                           5                                         \n",
      "Covariance Type:            nonrobust                                         \n",
      "==================================================================================================\n",
      "                                     coef    std err          t      P>|t|      [0.025      0.975]\n",
      "--------------------------------------------------------------------------------------------------\n",
      "const                          -5.411e+05   1.68e+05     -3.225      0.001    -8.7e+05   -2.12e+05\n",
      "State FIPS                      7828.8524   3180.819      2.461      0.014    1594.085    1.41e+04\n",
      "Population Staying at Home        -3.7173      0.080    -46.613      0.000      -3.874      -3.561\n",
      "Population Not Staying at Home     5.5838      0.024    229.112      0.000       5.536       5.632\n",
      "Week                            -2.08e+05   3.81e+04     -5.463      0.000   -2.83e+05   -1.33e+05\n",
      "Month                           9.999e+05   1.66e+05      6.032      0.000    6.75e+05    1.32e+06\n",
      "==============================================================================\n",
      "Omnibus:                     6734.847   Durbin-Watson:                   1.978\n",
      "Prob(Omnibus):                  0.000   Jarque-Bera (JB):           166307.131\n",
      "Skew:                           1.490   Prob(JB):                         0.00\n",
      "Kurtosis:                      18.590   Cond. No.                     3.33e+07\n",
      "==============================================================================\n",
      "\n",
      "Notes:\n",
      "[1] Standard Errors assume that the covariance matrix of the errors is correctly specified.\n",
      "[2] The condition number is large, 3.33e+07. This might indicate that there are\n",
      "strong multicollinearity or other numerical problems.\n"
     ]
    }
   ],
   "source": [
    "print(model.summary())"
   ]
  },
  {
   "cell_type": "code",
   "execution_count": null,
   "id": "0455988f",
   "metadata": {},
   "outputs": [],
   "source": []
  },
  {
   "cell_type": "markdown",
   "id": "d7d2d287",
   "metadata": {},
   "source": [
    "## Multiple Linear Regression Model 2"
   ]
  },
  {
   "cell_type": "code",
   "execution_count": 13,
   "id": "162c197a",
   "metadata": {},
   "outputs": [],
   "source": [
    "X = df3[['State FIPS','Population Staying at Home','Population Not Staying at Home','Week','Month']]\n",
    "y = df3['Number of Trips']"
   ]
  },
  {
   "cell_type": "code",
   "execution_count": 14,
   "id": "1008c23b",
   "metadata": {},
   "outputs": [],
   "source": [
    "X_train, X_test, y_train, y_test = train_test_split(X, y, test_size=0.2, random_state=42)"
   ]
  },
  {
   "cell_type": "code",
   "execution_count": 15,
   "id": "48a599be",
   "metadata": {},
   "outputs": [],
   "source": [
    "regressor = LinearRegression()"
   ]
  },
  {
   "cell_type": "code",
   "execution_count": 16,
   "id": "612dc871",
   "metadata": {},
   "outputs": [
    {
     "data": {
      "text/plain": [
       "LinearRegression()"
      ]
     },
     "execution_count": 16,
     "metadata": {},
     "output_type": "execute_result"
    }
   ],
   "source": [
    "regressor.fit(X_train, y_train)"
   ]
  },
  {
   "cell_type": "code",
   "execution_count": 17,
   "id": "1f7386d2",
   "metadata": {},
   "outputs": [
    {
     "data": {
      "text/plain": [
       "LinearRegression()"
      ]
     },
     "execution_count": 17,
     "metadata": {},
     "output_type": "execute_result"
    }
   ],
   "source": [
    "regressor.fit(X_train, y_train)"
   ]
  },
  {
   "cell_type": "code",
   "execution_count": 18,
   "id": "a7e44cfc",
   "metadata": {},
   "outputs": [],
   "source": [
    "y_pred = regressor.predict(X_test)"
   ]
  },
  {
   "cell_type": "code",
   "execution_count": 22,
   "id": "5ca92c3a",
   "metadata": {},
   "outputs": [],
   "source": [
    "from sklearn.metrics import r2_score\n",
    "r2 = r2_score(y_test, y_pred)"
   ]
  },
  {
   "cell_type": "code",
   "execution_count": 23,
   "id": "cd8c1f2b",
   "metadata": {},
   "outputs": [
    {
     "data": {
      "text/plain": [
       "0.941802486791338"
      ]
     },
     "execution_count": 23,
     "metadata": {},
     "output_type": "execute_result"
    }
   ],
   "source": [
    "r2"
   ]
  },
  {
   "cell_type": "code",
   "execution_count": null,
   "id": "500e6bd1",
   "metadata": {},
   "outputs": [],
   "source": []
  }
 ],
 "metadata": {
  "kernelspec": {
   "display_name": "Python 3",
   "language": "python",
   "name": "python3"
  },
  "language_info": {
   "codemirror_mode": {
    "name": "ipython",
    "version": 3
   },
   "file_extension": ".py",
   "mimetype": "text/x-python",
   "name": "python",
   "nbconvert_exporter": "python",
   "pygments_lexer": "ipython3",
   "version": "3.8.8"
  }
 },
 "nbformat": 4,
 "nbformat_minor": 5
}
