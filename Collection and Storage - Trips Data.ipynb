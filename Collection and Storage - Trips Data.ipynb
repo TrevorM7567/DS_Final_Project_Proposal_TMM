{
 "cells": [
  {
   "cell_type": "markdown",
   "id": "1bc6524b",
   "metadata": {},
   "source": [
    "# Import neccessary packages/tools:"
   ]
  },
  {
   "cell_type": "code",
   "execution_count": 1,
   "id": "87bdfdd6",
   "metadata": {},
   "outputs": [],
   "source": [
    "import pandas as pd\n",
    "import requests \n",
    "import pyodbc\n",
    "import sqlite3"
   ]
  },
  {
   "cell_type": "markdown",
   "id": "aa2817bd",
   "metadata": {},
   "source": [
    "### Dataset collected from data.gov\n",
    "#### https://catalog.data.gov/dataset/trips-by-distance\n",
    "##### \"How many people are staying at home? How far are people traveling when they don’t stay home? Which states and counties have more people taking trips? The Bureau of Transportation Statistics now provides answers to those questions through our new mobility statistics.\" (data.gov)"
   ]
  },
  {
   "cell_type": "markdown",
   "id": "7d9c9d1f",
   "metadata": {},
   "source": [
    "## First, the data needs to be loaded into Python using Pandas:"
   ]
  },
  {
   "cell_type": "code",
   "execution_count": 12,
   "id": "90365f27",
   "metadata": {
    "scrolled": true
   },
   "outputs": [
    {
     "name": "stdout",
     "output_type": "stream",
     "text": [
      "\n",
      "Converting Excel to Dataframe...\n"
     ]
    }
   ],
   "source": [
    "print(\"\\nConverting Excel to Dataframe...\")\n",
    "df = pd.read_excel(r'C:\\Users\\Trevo\\Downloads\\Trips_by_Distance.xlsx',\n",
    "                  header = 0\n",
    ")"
   ]
  },
  {
   "cell_type": "code",
   "execution_count": 13,
   "id": "b86648f5",
   "metadata": {
    "scrolled": true
   },
   "outputs": [
    {
     "data": {
      "text/html": [
       "<div>\n",
       "<style scoped>\n",
       "    .dataframe tbody tr th:only-of-type {\n",
       "        vertical-align: middle;\n",
       "    }\n",
       "\n",
       "    .dataframe tbody tr th {\n",
       "        vertical-align: top;\n",
       "    }\n",
       "\n",
       "    .dataframe thead th {\n",
       "        text-align: right;\n",
       "    }\n",
       "</style>\n",
       "<table border=\"1\" class=\"dataframe\">\n",
       "  <thead>\n",
       "    <tr style=\"text-align: right;\">\n",
       "      <th></th>\n",
       "      <th>Level</th>\n",
       "      <th>Date</th>\n",
       "      <th>State FIPS</th>\n",
       "      <th>State Postal Code</th>\n",
       "      <th>Population Staying at Home</th>\n",
       "      <th>Population Not Staying at Home</th>\n",
       "      <th>Number of Trips</th>\n",
       "      <th>Number of Trips &lt;1</th>\n",
       "      <th>Number of Trips 1-3</th>\n",
       "      <th>Number of Trips 3-5</th>\n",
       "      <th>Number of Trips 5-10</th>\n",
       "      <th>Number of Trips 10-25</th>\n",
       "      <th>Number of Trips 25-50</th>\n",
       "      <th>Number of Trips 50-100</th>\n",
       "      <th>Number of Trips 100-250</th>\n",
       "      <th>Number of Trips 250-500</th>\n",
       "      <th>Number of Trips &gt;=500</th>\n",
       "      <th>Row ID</th>\n",
       "      <th>Week</th>\n",
       "      <th>Month</th>\n",
       "    </tr>\n",
       "  </thead>\n",
       "  <tbody>\n",
       "    <tr>\n",
       "      <th>0</th>\n",
       "      <td>State</td>\n",
       "      <td>2019-01-01</td>\n",
       "      <td>32</td>\n",
       "      <td>NV</td>\n",
       "      <td>753054</td>\n",
       "      <td>2272063</td>\n",
       "      <td>9139676</td>\n",
       "      <td>2999886</td>\n",
       "      <td>2181216</td>\n",
       "      <td>1039500</td>\n",
       "      <td>1378024</td>\n",
       "      <td>1108436</td>\n",
       "      <td>222837</td>\n",
       "      <td>93301</td>\n",
       "      <td>73578</td>\n",
       "      <td>24471</td>\n",
       "      <td>18427</td>\n",
       "      <td>32-00000-20190101</td>\n",
       "      <td>0</td>\n",
       "      <td>1</td>\n",
       "    </tr>\n",
       "    <tr>\n",
       "      <th>1</th>\n",
       "      <td>State</td>\n",
       "      <td>2019-01-01</td>\n",
       "      <td>12</td>\n",
       "      <td>FL</td>\n",
       "      <td>4524666</td>\n",
       "      <td>16709556</td>\n",
       "      <td>55258300</td>\n",
       "      <td>16036792</td>\n",
       "      <td>14469767</td>\n",
       "      <td>6658624</td>\n",
       "      <td>7977612</td>\n",
       "      <td>6604304</td>\n",
       "      <td>2113009</td>\n",
       "      <td>796740</td>\n",
       "      <td>412224</td>\n",
       "      <td>95341</td>\n",
       "      <td>93887</td>\n",
       "      <td>12-00000-20190101</td>\n",
       "      <td>0</td>\n",
       "      <td>1</td>\n",
       "    </tr>\n",
       "    <tr>\n",
       "      <th>2</th>\n",
       "      <td>State</td>\n",
       "      <td>2019-01-01</td>\n",
       "      <td>11</td>\n",
       "      <td>DC</td>\n",
       "      <td>241030</td>\n",
       "      <td>459278</td>\n",
       "      <td>3114055</td>\n",
       "      <td>1314825</td>\n",
       "      <td>833796</td>\n",
       "      <td>367547</td>\n",
       "      <td>344116</td>\n",
       "      <td>183744</td>\n",
       "      <td>42096</td>\n",
       "      <td>10730</td>\n",
       "      <td>8109</td>\n",
       "      <td>3476</td>\n",
       "      <td>5616</td>\n",
       "      <td>11-00000-20190101</td>\n",
       "      <td>0</td>\n",
       "      <td>1</td>\n",
       "    </tr>\n",
       "    <tr>\n",
       "      <th>3</th>\n",
       "      <td>State</td>\n",
       "      <td>2019-01-01</td>\n",
       "      <td>10</td>\n",
       "      <td>DE</td>\n",
       "      <td>224457</td>\n",
       "      <td>739757</td>\n",
       "      <td>2420942</td>\n",
       "      <td>584323</td>\n",
       "      <td>640348</td>\n",
       "      <td>305441</td>\n",
       "      <td>370359</td>\n",
       "      <td>314102</td>\n",
       "      <td>128454</td>\n",
       "      <td>50542</td>\n",
       "      <td>22701</td>\n",
       "      <td>2474</td>\n",
       "      <td>2198</td>\n",
       "      <td>10-00000-20190101</td>\n",
       "      <td>0</td>\n",
       "      <td>1</td>\n",
       "    </tr>\n",
       "    <tr>\n",
       "      <th>4</th>\n",
       "      <td>State</td>\n",
       "      <td>2019-01-01</td>\n",
       "      <td>9</td>\n",
       "      <td>CT</td>\n",
       "      <td>853894</td>\n",
       "      <td>2707851</td>\n",
       "      <td>9468961</td>\n",
       "      <td>2375021</td>\n",
       "      <td>2618933</td>\n",
       "      <td>1189575</td>\n",
       "      <td>1331356</td>\n",
       "      <td>1211252</td>\n",
       "      <td>449947</td>\n",
       "      <td>192960</td>\n",
       "      <td>56618</td>\n",
       "      <td>12031</td>\n",
       "      <td>31268</td>\n",
       "      <td>09-00000-20190101</td>\n",
       "      <td>0</td>\n",
       "      <td>1</td>\n",
       "    </tr>\n",
       "  </tbody>\n",
       "</table>\n",
       "</div>"
      ],
      "text/plain": [
       "   Level       Date  State FIPS State Postal Code  Population Staying at Home  \\\n",
       "0  State 2019-01-01          32                NV                      753054   \n",
       "1  State 2019-01-01          12                FL                     4524666   \n",
       "2  State 2019-01-01          11                DC                      241030   \n",
       "3  State 2019-01-01          10                DE                      224457   \n",
       "4  State 2019-01-01           9                CT                      853894   \n",
       "\n",
       "   Population Not Staying at Home  Number of Trips  Number of Trips <1  \\\n",
       "0                         2272063          9139676             2999886   \n",
       "1                        16709556         55258300            16036792   \n",
       "2                          459278          3114055             1314825   \n",
       "3                          739757          2420942              584323   \n",
       "4                         2707851          9468961             2375021   \n",
       "\n",
       "   Number of Trips 1-3  Number of Trips 3-5  Number of Trips 5-10  \\\n",
       "0              2181216              1039500               1378024   \n",
       "1             14469767              6658624               7977612   \n",
       "2               833796               367547                344116   \n",
       "3               640348               305441                370359   \n",
       "4              2618933              1189575               1331356   \n",
       "\n",
       "   Number of Trips 10-25  Number of Trips 25-50  Number of Trips 50-100  \\\n",
       "0                1108436                 222837                   93301   \n",
       "1                6604304                2113009                  796740   \n",
       "2                 183744                  42096                   10730   \n",
       "3                 314102                 128454                   50542   \n",
       "4                1211252                 449947                  192960   \n",
       "\n",
       "   Number of Trips 100-250  Number of Trips 250-500  Number of Trips >=500  \\\n",
       "0                    73578                    24471                  18427   \n",
       "1                   412224                    95341                  93887   \n",
       "2                     8109                     3476                   5616   \n",
       "3                    22701                     2474                   2198   \n",
       "4                    56618                    12031                  31268   \n",
       "\n",
       "              Row ID  Week  Month  \n",
       "0  32-00000-20190101     0      1  \n",
       "1  12-00000-20190101     0      1  \n",
       "2  11-00000-20190101     0      1  \n",
       "3  10-00000-20190101     0      1  \n",
       "4  09-00000-20190101     0      1  "
      ]
     },
     "execution_count": 13,
     "metadata": {},
     "output_type": "execute_result"
    }
   ],
   "source": [
    "df.head()"
   ]
  },
  {
   "cell_type": "markdown",
   "id": "4bfb916a",
   "metadata": {},
   "source": [
    "# Connecting to SQLite:"
   ]
  },
  {
   "cell_type": "code",
   "execution_count": 6,
   "id": "60a6a900",
   "metadata": {},
   "outputs": [
    {
     "name": "stdout",
     "output_type": "stream",
     "text": [
      "\n",
      "Connecting to SQLite3 DataBase. If one doesn't exist, one will be created...\n"
     ]
    }
   ],
   "source": [
    "connection = sqlite3.connect('/Users/Trevo/Downloads/Tripsdata.db')\n",
    "print(\"\\nConnecting to SQLite3 DataBase. If one doesn't exist, one will be created...\")"
   ]
  },
  {
   "cell_type": "markdown",
   "id": "c15fd8e0",
   "metadata": {},
   "source": [
    "# Inserting Data into the SQLite 3 database:"
   ]
  },
  {
   "cell_type": "code",
   "execution_count": 9,
   "id": "ec5ca0fc",
   "metadata": {},
   "outputs": [
    {
     "name": "stdout",
     "output_type": "stream",
     "text": [
      "\n",
      "Inserting Data into the SQLite3 Database...\n"
     ]
    }
   ],
   "source": [
    "print(\"\\nInserting Data into the SQLite3 Database...\")\n",
    "df.to_sql(\n",
    "    name = 'Trips Data',\n",
    "    con = connection,\n",
    "    if_exists = 'replace',\n",
    "    index = False,\n",
    "    dtype = {'Level': 'text',\n",
    "            'Date': 'real',\n",
    "            'State FIPS': 'real',\n",
    "            'State Postal Code': 'text',\n",
    "            'Population Staying at Home': 'real',\n",
    "            'Population Not Staying at Home': 'real',\n",
    "            'Number of Trips': 'real',\n",
    "            'Number of Trips <1': 'real',\n",
    "            'Number of Trips 1-3': 'real',\n",
    "            'Number of Trips 3-5': 'real',\n",
    "            'Number of Trips 5-10': 'real',\n",
    "            'Number of Trips 10-25': 'real',\n",
    "            'Number of Trips 25-50': 'real',\n",
    "            'Number of Trips 50-100': 'real',\n",
    "            'Number of Trips 100-250': 'real',\n",
    "            'Number of Trips 250-500': 'real',\n",
    "            'Number of Trips >=500': 'real',\n",
    "            'Row ID': 'real',\n",
    "            'Week': 'real',\n",
    "            'Month': 'real'})"
   ]
  },
  {
   "cell_type": "code",
   "execution_count": 11,
   "id": "ab37cd25",
   "metadata": {},
   "outputs": [
    {
     "name": "stdout",
     "output_type": "stream",
     "text": [
      "\n",
      "Saving and closing the SQLite3 database connection...\n"
     ]
    }
   ],
   "source": [
    "print(\"\\nSaving and closing the SQLite3 database connection...\")\n",
    "connection.commit()\n",
    "connection.close()"
   ]
  },
  {
   "cell_type": "code",
   "execution_count": null,
   "id": "f5c41372",
   "metadata": {},
   "outputs": [],
   "source": []
  }
 ],
 "metadata": {
  "kernelspec": {
   "display_name": "Python 3",
   "language": "python",
   "name": "python3"
  },
  "language_info": {
   "codemirror_mode": {
    "name": "ipython",
    "version": 3
   },
   "file_extension": ".py",
   "mimetype": "text/x-python",
   "name": "python",
   "nbconvert_exporter": "python",
   "pygments_lexer": "ipython3",
   "version": "3.8.8"
  }
 },
 "nbformat": 4,
 "nbformat_minor": 5
}
